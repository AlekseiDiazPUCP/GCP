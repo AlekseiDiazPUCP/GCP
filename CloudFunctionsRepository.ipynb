{
  "nbformat": 4,
  "nbformat_minor": 0,
  "metadata": {
    "colab": {
      "name": "CloudFunctionsRepository.ipynb",
      "provenance": [],
      "authorship_tag": "ABX9TyMqTiT5yLQ//NZe+UsMGrzU",
      "include_colab_link": true
    },
    "kernelspec": {
      "name": "python3",
      "display_name": "Python 3"
    },
    "language_info": {
      "name": "python"
    }
  },
  "cells": [
    {
      "cell_type": "markdown",
      "metadata": {
        "id": "view-in-github",
        "colab_type": "text"
      },
      "source": [
        "<a href=\"https://colab.research.google.com/github/AlekseiDiazPUCP/GCP/blob/main/CloudFunctionsRepository.ipynb\" target=\"_parent\"><img src=\"https://colab.research.google.com/assets/colab-badge.svg\" alt=\"Open In Colab\"/></a>"
      ]
    },
    {
      "cell_type": "markdown",
      "source": [
        "# Google Cloud Functions\n",
        "<p>This notebook is a collection of different functions I have created. The pourpose is to provide a repository to easily review them</p>"
      ],
      "metadata": {
        "id": "l0UqKRvPyknQ"
      }
    },
    {
      "cell_type": "markdown",
      "source": [
        "##**Cloud Storage**"
      ],
      "metadata": {
        "id": "VAE8Yi1mzYjt"
      }
    },
    {
      "cell_type": "markdown",
      "source": [
        "### Copy a file from one bucket to another\n"
      ],
      "metadata": {
        "id": "pf0h02Any-xp"
      }
    },
    {
      "cell_type": "markdown",
      "source": [
        "**requirements.txt**\n",
        "<p> google-cloud-storage</p>"
      ],
      "metadata": {
        "id": "FizTqbqV-gb1"
      }
    },
    {
      "cell_type": "code",
      "source": [
        "from google.cloud import storage\n",
        "def copy_blob(bucket_name, blob_name, destination_bucket_name, destination_blob_name):\n",
        "    \"\"\"Copies a blob from one bucket to another with a new name.\"\"\"\n",
        "    # bucket_name = \"your-bucket-name\"\n",
        "    # blob_name = \"your-object-name\"\n",
        "    # destination_bucket_name = \"destination-bucket-name\"\n",
        "    # destination_blob_name = \"destination-object-name\"\n",
        "\n",
        "    storage_client = storage.Client()\n",
        "\n",
        "    source_bucket = storage_client.bucket(bucket_name)\n",
        "    source_blob = source_bucket.blob(blob_name)\n",
        "    destination_bucket = storage_client.bucket(destination_bucket_name)\n",
        "\n",
        "    blob_copy = source_bucket.copy_blob(\n",
        "        source_blob, destination_bucket, destination_blob_name\n",
        "    )\n",
        "    print(\n",
        "        \"Blob {} in bucket {} copied to blob {} in bucket {}.\".format(\n",
        "            source_blob.name,\n",
        "            source_bucket.name,\n",
        "            blob_copy.name,\n",
        "            destination_bucket.name,\n",
        "        )\n",
        "    )"
      ],
      "metadata": {
        "id": "DJnr6SH1y-YT"
      },
      "execution_count": null,
      "outputs": []
    },
    {
      "cell_type": "markdown",
      "source": [
        "### Delete a file from a bucket"
      ],
      "metadata": {
        "id": "hb5ZDuBfzQEC"
      }
    },
    {
      "cell_type": "markdown",
      "source": [
        "**requirements.txt**\n",
        "<p> google-cloud-storage</p>"
      ],
      "metadata": {
        "id": "nJL0g-fc-yT0"
      }
    },
    {
      "cell_type": "code",
      "execution_count": null,
      "metadata": {
        "id": "6UayrPbsyctp"
      },
      "outputs": [],
      "source": [
        "from google.cloud import storage\n",
        "def delete_blob(bucket_name, blob_name):\n",
        "    \"\"\"Deletes a blob from the bucket.\"\"\"\n",
        "    # bucket_name = \"your-bucket-name\"\n",
        "    # blob_name = \"your-object-name\"\n",
        "\n",
        "    storage_client = storage.Client()\n",
        "\n",
        "    bucket = storage_client.bucket(bucket_name)\n",
        "    blob = bucket.blob(blob_name)\n",
        "    blob.delete()\n",
        "\n",
        "    print(\"Blob {} deleted.\".format(blob_name))\n"
      ]
    },
    {
      "cell_type": "markdown",
      "source": [
        "## **BigQuery**"
      ],
      "metadata": {
        "id": "2maiXK_8zcjL"
      }
    },
    {
      "cell_type": "markdown",
      "source": [
        "### Run Scheduled Queries on demmand"
      ],
      "metadata": {
        "id": "5WF1c9BGzgKA"
      }
    },
    {
      "cell_type": "markdown",
      "source": [
        "**requirements.txt**\n",
        "<p> google-cloud-bigquery-datatransfer==1</p>"
      ],
      "metadata": {
        "id": "Q0Sx5ppP_N3y"
      }
    },
    {
      "cell_type": "code",
      "source": [
        "from google.cloud import bigquery_datatransfer_v1\n",
        "import time\n",
        "\n",
        "def runScheduledQuery(resourceName):\n",
        "  \"\"\"runs a scheduled query on demmand\"\"\"\n",
        "  #resourceName: Can be found in the scheduled query configuration under the name of Resource Name\n",
        "  client = bigquery_datatransfer_v1.DataTransferServiceClient()\n",
        "  parent = resourceName\n",
        "  print(f'paren is {parent}')\n",
        "  start_time = bigquery_datatransfer_v1.types.Timestamp(seconds=int(time.time() + 10))\n",
        "  response = client.start_manual_transfer_runs(parent, requested_run_time=start_time)\n",
        "  return \"query has been triggered\"\n"
      ],
      "metadata": {
        "id": "2k2vYgNYzfxE"
      },
      "execution_count": null,
      "outputs": []
    },
    {
      "cell_type": "markdown",
      "source": [
        "### Run Custom Queries"
      ],
      "metadata": {
        "id": "pNi92bzd0661"
      }
    },
    {
      "cell_type": "markdown",
      "source": [
        "**requirements.txt**\n",
        "<p> google-cloud-bigquery</p>"
      ],
      "metadata": {
        "id": "OrHRBx8v_VoY"
      }
    },
    {
      "cell_type": "code",
      "source": [
        "from google.cloud import bigquery\n",
        "import time\n",
        "\n",
        "def runQuery(query):\n",
        "    # Construct a BigQuery client object.\n",
        "    client = bigquery.Client()\n",
        "\n",
        "    query_job = client.query(query)  # Make an API request.\n",
        "\n",
        "    status = query_job.state\n",
        "\n",
        "    while status == 'RUNNING':\n",
        "      print('the query is still running')\n",
        "      time.sleep(5)\n",
        "      query_job = client.get_job(\n",
        "          query_job.job_id, location=query_job.location\n",
        "          )\n",
        "      status = query_job.state\n"
      ],
      "metadata": {
        "id": "k-5T207P09lg"
      },
      "execution_count": null,
      "outputs": []
    },
    {
      "cell_type": "markdown",
      "source": [
        "### **Loading a Data Frame**"
      ],
      "metadata": {
        "id": "APUZ0a70Ge2Z"
      }
    },
    {
      "cell_type": "markdown",
      "source": [
        "**requirements.txt**\n",
        "<p> google-cloud-bigquery</p>\n",
        "<p> pandas </p>"
      ],
      "metadata": {
        "id": "OT9aPw_-GjFz"
      }
    },
    {
      "cell_type": "code",
      "source": [
        "import pandas as pd\n",
        "from google.cloud import bigquery\n",
        "\n",
        "def loadDataFrame(job_config,df,table_id):\n",
        "  \"\"\"Triggered from a message on a Cloud Pub/Sub topic.\n",
        "    Args:\n",
        "         job_config (variable): The Job configuration. There is an example below.\n",
        "         df (dataframe): df is a pandas dataframe to be loaded into a BigQuery table\n",
        "         table_id (string) : It is the table id which df will be loaded. projec_id.dataset_id.table_id \n",
        "         context (google.cloud.functions.Context): Metadata for the event.\n",
        "    \"\"\"\n",
        "\n",
        "  \"\"\"\n",
        "  job_config = bigquery.LoadJobConfig(\n",
        "        schema=[\n",
        "          bigquery.SchemaField(\"flow_name\", bigquery.enums.SqlTypeNames.STRING),\n",
        "          bigquery.SchemaField(\"communication_start_date_time\", bigquery.enums.SqlTypeNames.STRING),\n",
        "          bigquery.SchemaField(\"click\", bigquery.enums.SqlTypeNames.INTEGER),\n",
        "          bigquery.SchemaField(\"send_at_date\", bigquery.enums.SqlTypeNames.DATE)\n",
        "          ]\n",
        "        )\n",
        "  \"\"\"\n",
        "  job = client.load_table_from_dataframe(df, table_id,job_config=job_config) \n",
        "  \n",
        "  return \"200\" \n",
        "\n"
      ],
      "metadata": {
        "id": "AV9-FQPIGslg"
      },
      "execution_count": null,
      "outputs": []
    },
    {
      "cell_type": "markdown",
      "source": [
        "### **Loading a JSON**"
      ],
      "metadata": {
        "id": "fuHLrgtuO367"
      }
    },
    {
      "cell_type": "markdown",
      "source": [
        "**requirements.txt**\n",
        "<p> google-cloud-bigquery</p>"
      ],
      "metadata": {
        "id": "93qLZMaAO_bK"
      }
    },
    {
      "cell_type": "code",
      "source": [
        "from google.cloud import bigquery\n",
        "\n",
        "#data must be from a get_json for example\n",
        "\n",
        "def loadJsonToBQ(json, projectId, datasetId, tableId):\n",
        "    \n",
        "  client = bigquery.Client()\n",
        "\n",
        "  data = [data]\n",
        "\n",
        "  job = client.load_table_from_json(data,table_id)\n",
        "\n",
        "  return '200'        \n",
        "\n",
        "\n",
        "\n",
        "\n",
        "\n",
        "  \n"
      ],
      "metadata": {
        "id": "7uzsThsuPLnH"
      },
      "execution_count": null,
      "outputs": []
    },
    {
      "cell_type": "markdown",
      "source": [
        "## **Pub/Sub**"
      ],
      "metadata": {
        "id": "Sx9UTZpRCxog"
      }
    },
    {
      "cell_type": "markdown",
      "source": [
        "### **Publish in  Topic**"
      ],
      "metadata": {
        "id": "LekbXZAqDDAf"
      }
    },
    {
      "cell_type": "markdown",
      "source": [
        "**requirements.txt**\n",
        "<p> google-cloud-pubsub</p>"
      ],
      "metadata": {
        "id": "bUDA8WNjDPSn"
      }
    },
    {
      "cell_type": "code",
      "source": [
        "from google.cloud import pubsub_v1\n",
        "import json\n",
        "\n",
        "\n",
        "def publish(bucket_name,file_name,topic_name):\n",
        "  # Publish to a topic.\n",
        "\n",
        "  publisher = pubsub_v1.PublisherClient()\n",
        "  \n",
        "  # References an existing topic\n",
        "  message_json = json.dumps({\n",
        "      'data':  {'bucket_name': bucket_name,'file_name':file_name},\n",
        "    })\n",
        "  message_bytes = str(message_json).encode('utf-8')\n",
        "\n",
        "  # Publishes a message\n",
        "  try:\n",
        "    publish_future = publisher.publish(topic_path, data=message_bytes)\n",
        "    publish_future.result()  # Verify the publish succeeded\n",
        "    return 'Message published.'\n",
        "  except Exception as e:\n",
        "    print(e)\n",
        "    return (e, 500)"
      ],
      "metadata": {
        "id": "KIJkjsX7DCnB"
      },
      "execution_count": null,
      "outputs": []
    },
    {
      "cell_type": "markdown",
      "source": [
        "### **Read from a Topic**"
      ],
      "metadata": {
        "id": "nvAY__NgE8Cw"
      }
    },
    {
      "cell_type": "markdown",
      "source": [
        "**requirements.txt**\n",
        "<p> google-cloud-pubsub</p>"
      ],
      "metadata": {
        "id": "gRlEX-21FX6d"
      }
    },
    {
      "cell_type": "code",
      "source": [
        "from google.cloud import pubsub_v1\n",
        "import json\n",
        "\n",
        "\n",
        "def parseMessage(event, context):\n",
        "    \"\"\"Triggered from a message on a Cloud Pub/Sub topic.\n",
        "    Args:\n",
        "         event (dict): Event payload.\n",
        "         context (google.cloud.functions.Context): Metadata for the event.\n",
        "    \"\"\"\n",
        "    pubsub_message = base64.b64decode(event['data']).decode('utf-8')\n",
        "    \n",
        "    #Make the message data accesible form key values\n",
        "    payload = json.loads(pubsub_message)\n",
        "    print(payload)\n",
        "\n",
        "    return '200'"
      ],
      "metadata": {
        "id": "MciuS9GIE5lo"
      },
      "execution_count": null,
      "outputs": []
    },
    {
      "cell_type": "code",
      "source": [
        ""
      ],
      "metadata": {
        "id": "1WZn4bRRC3yy"
      },
      "execution_count": null,
      "outputs": []
    },
    {
      "cell_type": "markdown",
      "source": [
        "## **Billing**"
      ],
      "metadata": {
        "id": "BYYmOE0pI0Oa"
      }
    },
    {
      "cell_type": "code",
      "source": [
        "import base64\n",
        "import base64\n",
        "import json\n",
        "import os\n",
        "from googleapiclient import discovery\n",
        "\n",
        "#PROJECT_ID = os.getenv('GCP_PROJECT')\n",
        "PROJECT_ID = '<project ID>' #To be replaced \n",
        "PROJECT_NAME = f'projects/{PROJECT_ID}'\n",
        "\n",
        "\n",
        "def stop_billing(data, context):\n",
        "    pubsub_data = base64.b64decode(data['data']).decode('utf-8')\n",
        "    pubsub_json = json.loads(pubsub_data)\n",
        "    cost_amount = pubsub_json['costAmount']\n",
        "    budget_amount = pubsub_json['budgetAmount']\n",
        "    if cost_amount <= budget_amount:\n",
        "        print(f'No action necessary. (Current cost: {cost_amount})')\n",
        "        return\n",
        "\n",
        "    if PROJECT_ID is None:\n",
        "        print('No project specified with environment variable')\n",
        "        return '200'\n",
        "\n",
        "    billing = discovery.build(\n",
        "        'cloudbilling',\n",
        "        'v1',\n",
        "        cache_discovery=False,\n",
        "    )\n",
        "\n",
        "    projects = billing.projects()\n",
        "\n",
        "    billing_enabled = __is_billing_enabled(PROJECT_NAME, projects)\n",
        "\n",
        "    if billing_enabled:\n",
        "        __disable_billing_for_project(PROJECT_NAME, projects)\n",
        "        print('billing was supposed to be disabled')\n",
        "        return '200'\n",
        "    else:\n",
        "        print('Billing already disabled')\n",
        "        return '200'\n",
        "\n",
        "\n",
        "def __is_billing_enabled(project_name, projects):\n",
        "    \"\"\"\n",
        "    Determine whether billing is enabled for a project\n",
        "    @param {string} project_name Name of project to check if billing is enabled\n",
        "    @return {bool} Whether project has billing enabled or not\n",
        "    \"\"\"\n",
        "    try:\n",
        "        res = projects.getBillingInfo(name=project_name).execute()\n",
        "        return res['billingEnabled']\n",
        "    except KeyError:\n",
        "        # If billingEnabled isn't part of the return, billing is not enabled\n",
        "        return False\n",
        "    except Exception:\n",
        "        print('Unable to determine if billing is enabled on specified project, assuming billing is enabled')\n",
        "        return True\n",
        "\n",
        "\n",
        "def __disable_billing_for_project(project_name, projects):\n",
        "    \"\"\"\n",
        "    Disable billing for a project by removing its billing account\n",
        "    @param {string} project_name Name of project disable billing on\n",
        "    \"\"\"\n",
        "    body = {'billingAccountName': ''}  # Disable billing\n",
        "    try:\n",
        "        res = projects.updateBillingInfo(name=project_name, body=body).execute()\n",
        "        print(f'Billing disabled: {json.dumps(res)}')\n",
        "    except Exception:\n",
        "        print('Failed to disable billing, possibly check permissions')"
      ],
      "metadata": {
        "id": "RepBW6g2JFDc"
      },
      "execution_count": null,
      "outputs": []
    }
  ]
}