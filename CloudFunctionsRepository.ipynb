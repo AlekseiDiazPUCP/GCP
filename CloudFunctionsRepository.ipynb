{
  "nbformat": 4,
  "nbformat_minor": 0,
  "metadata": {
    "colab": {
      "name": "CloudFunctionsRepository.ipynb",
      "provenance": [],
      "collapsed_sections": [],
      "mount_file_id": "1RjgaiMkuS06ye14WqBWTy2OT5NnQKiec",
      "authorship_tag": "ABX9TyOwen7yBKY3AYcoS2PHNL3w",
      "include_colab_link": true
    },
    "kernelspec": {
      "name": "python3",
      "display_name": "Python 3"
    },
    "language_info": {
      "name": "python"
    }
  },
  "cells": [
    {
      "cell_type": "markdown",
      "metadata": {
        "id": "view-in-github",
        "colab_type": "text"
      },
      "source": [
        "<a href=\"https://colab.research.google.com/github/AlekseiDiazPUCP/GCP/blob/main/CloudFunctionsRepository.ipynb\" target=\"_parent\"><img src=\"https://colab.research.google.com/assets/colab-badge.svg\" alt=\"Open In Colab\"/></a>"
      ]
    },
    {
      "cell_type": "markdown",
      "source": [
        "# **Git SetUp**"
      ],
      "metadata": {
        "id": "x9A4idAUIL-c"
      }
    },
    {
      "cell_type": "code",
      "source": [
        "%%bash\n",
        "\n",
        "which git\n"
      ],
      "metadata": {
        "colab": {
          "base_uri": "https://localhost:8080/"
        },
        "id": "Va76k12GHhpW",
        "outputId": "c484aaea-2b3b-4974-ad53-7bfd37a9c1a7"
      },
      "execution_count": 49,
      "outputs": [
        {
          "output_type": "stream",
          "name": "stdout",
          "text": [
            "/usr/bin/git\n"
          ]
        }
      ]
    },
    {
      "cell_type": "code",
      "source": [
        "%%bash\n",
        "\n",
        "git --version"
      ],
      "metadata": {
        "colab": {
          "base_uri": "https://localhost:8080/"
        },
        "id": "B_5r67BxHka9",
        "outputId": "5ee8b9f0-35dd-4ad7-9750-dd04df6b6385"
      },
      "execution_count": 50,
      "outputs": [
        {
          "output_type": "stream",
          "name": "stdout",
          "text": [
            "git version 2.17.1\n"
          ]
        }
      ]
    },
    {
      "cell_type": "code",
      "source": [
        "%%bash\n",
        "\n",
        "git --help"
      ],
      "metadata": {
        "colab": {
          "base_uri": "https://localhost:8080/"
        },
        "id": "wb4RiWOVIDLf",
        "outputId": "5129f39f-1f2c-464c-886e-fa61eeb46fb3"
      },
      "execution_count": 51,
      "outputs": [
        {
          "output_type": "stream",
          "name": "stdout",
          "text": [
            "usage: git [--version] [--help] [-C <path>] [-c <name>=<value>]\n",
            "           [--exec-path[=<path>]] [--html-path] [--man-path] [--info-path]\n",
            "           [-p | --paginate | --no-pager] [--no-replace-objects] [--bare]\n",
            "           [--git-dir=<path>] [--work-tree=<path>] [--namespace=<name>]\n",
            "           <command> [<args>]\n",
            "\n",
            "These are common Git commands used in various situations:\n",
            "\n",
            "start a working area (see also: git help tutorial)\n",
            "   clone      Clone a repository into a new directory\n",
            "   init       Create an empty Git repository or reinitialize an existing one\n",
            "\n",
            "work on the current change (see also: git help everyday)\n",
            "   add        Add file contents to the index\n",
            "   mv         Move or rename a file, a directory, or a symlink\n",
            "   reset      Reset current HEAD to the specified state\n",
            "   rm         Remove files from the working tree and from the index\n",
            "\n",
            "examine the history and state (see also: git help revisions)\n",
            "   bisect     Use binary search to find the commit that introduced a bug\n",
            "   grep       Print lines matching a pattern\n",
            "   log        Show commit logs\n",
            "   show       Show various types of objects\n",
            "   status     Show the working tree status\n",
            "\n",
            "grow, mark and tweak your common history\n",
            "   branch     List, create, or delete branches\n",
            "   checkout   Switch branches or restore working tree files\n",
            "   commit     Record changes to the repository\n",
            "   diff       Show changes between commits, commit and working tree, etc\n",
            "   merge      Join two or more development histories together\n",
            "   rebase     Reapply commits on top of another base tip\n",
            "   tag        Create, list, delete or verify a tag object signed with GPG\n",
            "\n",
            "collaborate (see also: git help workflows)\n",
            "   fetch      Download objects and refs from another repository\n",
            "   pull       Fetch from and integrate with another repository or a local branch\n",
            "   push       Update remote refs along with associated objects\n",
            "\n",
            "'git help -a' and 'git help -g' list available subcommands and some\n",
            "concept guides. See 'git help <command>' or 'git help <concept>'\n",
            "to read about a specific subcommand or concept.\n"
          ]
        }
      ]
    },
    {
      "cell_type": "code",
      "source": [
        "%%bash\n",
        "\n",
        "git config --global user.name \"Aleksei Diaz\"\n",
        "git config --global user.email \"aleksei.diaz@pucp.edu.pe\"\n",
        "git config --list"
      ],
      "metadata": {
        "colab": {
          "base_uri": "https://localhost:8080/"
        },
        "id": "y6nJXi5zIKed",
        "outputId": "73d70abe-1c39-40a3-dee4-5b2f7e1648c4"
      },
      "execution_count": 52,
      "outputs": [
        {
          "output_type": "stream",
          "name": "stdout",
          "text": [
            "user.name=Aleksei Diaz\n",
            "user.email=aleksei.diaz@pucp.edu.pe\n"
          ]
        }
      ]
    },
    {
      "cell_type": "code",
      "source": [
        "%%bash\n",
        "\n",
        "mkdir -p src_code/folder/folder2"
      ],
      "metadata": {
        "id": "VNEwn3NQJTie"
      },
      "execution_count": 53,
      "outputs": []
    },
    {
      "cell_type": "code",
      "source": [
        "%%bash\n",
        "cd drive/MyDrive/Colab\\ Notebooks\n",
        "\n",
        "git init"
      ],
      "metadata": {
        "colab": {
          "base_uri": "https://localhost:8080/"
        },
        "id": "S5ZVmdlVJOVd",
        "outputId": "78ddc122-f4e3-4e73-c0b1-3c520c72b28f"
      },
      "execution_count": 54,
      "outputs": [
        {
          "output_type": "stream",
          "name": "stdout",
          "text": [
            "Reinitialized existing Git repository in /content/drive/MyDrive/Colab Notebooks/.git/\n"
          ]
        }
      ]
    },
    {
      "cell_type": "code",
      "source": [
        "%%bash\n",
        "cd drive/MyDrive/Colab\\ Notebooks\n",
        "ls"
      ],
      "metadata": {
        "colab": {
          "base_uri": "https://localhost:8080/"
        },
        "id": "1gvkwYWJLsZy",
        "outputId": "5b81a4f4-07e6-464d-99c6-48a3ee4864dc"
      },
      "execution_count": 55,
      "outputs": [
        {
          "output_type": "stream",
          "name": "stdout",
          "text": [
            "BBDD\n",
            "ClasseObjects.py\n",
            "CloudFunctionsRepository2.ipynb\n",
            "CloudFunctionsRepository.ipynb\n",
            "Cousera\n",
            "DataScienceToolBox1.ipynb\n",
            "Dictionaries.ipynb\n",
            "Dictionary.ipynb\n",
            "duplicados.csv\n",
            "essec.ipynb\n",
            "ForLoop.ipynb\n",
            "Functions.ipynb\n",
            "herramienta.ipynb\n",
            "importmodule.ipynb\n",
            "Ingeco.ipynb\n",
            "input.ipynb\n",
            "Intermediate Python.ipynb\n",
            "LinerModel2.ipynb\n",
            "lista.ipynb\n",
            "LoopDicDFList.ipynb\n",
            "matplot.ipynb\n",
            "model.ipynb\n",
            "ModulesPip.ipynb\n",
            "Neo Proceso\n",
            "numeros.ipynb\n",
            "Numpy.ipynb\n",
            "Pandas.ipynb\n",
            "Prueba.ipynb\n",
            "Ransa.ipynb\n",
            "ReadingFile.ipynb\n",
            "Strings.ipynb\n",
            "texto.txt\n",
            "Toolbox1.ipynb\n",
            "Traduccion.ipynb\n",
            "Translator.ipynb\n",
            "Try Except.ipynb\n",
            "tuple.ipynb\n",
            "whileLoop.ipynb\n"
          ]
        }
      ]
    },
    {
      "cell_type": "code",
      "source": [
        "%%bash\n",
        "cd drive/MyDrive/Colab\\ Notebooks\n",
        "git add CloudFunctionsRepository2.ipynb"
      ],
      "metadata": {
        "id": "_Nu1mgM7OaRg"
      },
      "execution_count": 56,
      "outputs": []
    },
    {
      "cell_type": "code",
      "source": [
        "%%bash\n",
        "cd drive/MyDrive/Colab\\ Notebooks\n",
        "\n",
        "ls -l .git"
      ],
      "metadata": {
        "colab": {
          "base_uri": "https://localhost:8080/"
        },
        "id": "MkDt-REKJu6V",
        "outputId": "5abfceb2-bcbf-4151-eda6-ad255ac19ab1"
      },
      "execution_count": 57,
      "outputs": [
        {
          "output_type": "stream",
          "name": "stdout",
          "text": [
            "total 27\n",
            "drwx------ 2 root root 4096 Feb  9 16:06 branches\n",
            "-rw------- 1 root root   23 Feb  9 16:10 COMMIT_EDITMSG\n",
            "-rw------- 1 root root   92 Feb  9 17:53 config\n",
            "-rw------- 1 root root   73 Feb  9 16:06 description\n",
            "-rw------- 1 root root   23 Feb  9 16:06 HEAD\n",
            "drwx------ 2 root root 4096 Feb  9 16:06 hooks\n",
            "-rw------- 1 root root  161 Feb  9 16:10 index\n",
            "drwx------ 2 root root 4096 Feb  9 16:06 info\n",
            "drwx------ 3 root root 4096 Feb  9 16:10 logs\n",
            "drwx------ 7 root root 4096 Feb  9 16:10 objects\n",
            "drwx------ 4 root root 4096 Feb  9 16:06 refs\n"
          ]
        }
      ]
    },
    {
      "cell_type": "code",
      "source": [
        "%%bash\n",
        "cd drive/MyDrive/Colab\\ Notebooks\n",
        "\n",
        "cat .git/config"
      ],
      "metadata": {
        "colab": {
          "base_uri": "https://localhost:8080/"
        },
        "id": "Wym9wnA0J1VH",
        "outputId": "709065fb-abce-4fc9-a0bd-64e1472675d6"
      },
      "execution_count": 58,
      "outputs": [
        {
          "output_type": "stream",
          "name": "stdout",
          "text": [
            "[core]\n",
            "\trepositoryformatversion = 0\n",
            "\tfilemode = true\n",
            "\tbare = false\n",
            "\tlogallrefupdates = true\n"
          ]
        }
      ]
    },
    {
      "cell_type": "code",
      "source": [
        "%%bash\n",
        "cd drive/MyDrive/Colab\\ Notebooks\n",
        "\n",
        "git commit -m \"My first Python script\""
      ],
      "metadata": {
        "colab": {
          "base_uri": "https://localhost:8080/"
        },
        "id": "YlbCqCSdQE4p",
        "outputId": "2155680a-08d8-4b2d-faa6-81650def200f"
      },
      "execution_count": 59,
      "outputs": [
        {
          "output_type": "stream",
          "name": "stdout",
          "text": [
            "On branch master\n",
            "Untracked files:\n",
            "\tBBDD/\n",
            "\tClasseObjects.py\n",
            "\tCloudFunctionsRepository.ipynb\n",
            "\tCousera/\n",
            "\tDataScienceToolBox1.ipynb\n",
            "\tDictionaries.ipynb\n",
            "\tDictionary.ipynb\n",
            "\tForLoop.ipynb\n",
            "\tFunctions.ipynb\n",
            "\tIngeco.ipynb\n",
            "\tIntermediate Python.ipynb\n",
            "\tLinerModel2.ipynb\n",
            "\tLoopDicDFList.ipynb\n",
            "\tModulesPip.ipynb\n",
            "\tNeo Proceso/\n",
            "\tNumpy.ipynb\n",
            "\tPandas.ipynb\n",
            "\tPrueba.ipynb\n",
            "\tRansa.ipynb\n",
            "\tReadingFile.ipynb\n",
            "\tStrings.ipynb\n",
            "\tToolbox1.ipynb\n",
            "\tTraduccion.ipynb\n",
            "\tTranslator.ipynb\n",
            "\tTry Except.ipynb\n",
            "\tduplicados.csv\n",
            "\tessec.ipynb\n",
            "\therramienta.ipynb\n",
            "\timportmodule.ipynb\n",
            "\tinput.ipynb\n",
            "\tlista.ipynb\n",
            "\tmatplot.ipynb\n",
            "\tmodel.ipynb\n",
            "\tnumeros.ipynb\n",
            "\ttexto.txt\n",
            "\ttuple.ipynb\n",
            "\twhileLoop.ipynb\n",
            "\n",
            "nothing added to commit but untracked files present\n"
          ]
        }
      ]
    },
    {
      "cell_type": "code",
      "source": [
        "%%bash\n",
        "cd drive/MyDrive/Colab\\ Notebooks\n",
        "\n",
        "git status"
      ],
      "metadata": {
        "colab": {
          "base_uri": "https://localhost:8080/"
        },
        "id": "LU3ZOmrPLVvQ",
        "outputId": "0846c1ca-53df-4a44-ebe3-20e444cb32bd"
      },
      "execution_count": 60,
      "outputs": [
        {
          "output_type": "stream",
          "name": "stdout",
          "text": [
            "On branch master\n",
            "Untracked files:\n",
            "  (use \"git add <file>...\" to include in what will be committed)\n",
            "\n",
            "\tBBDD/\n",
            "\tClasseObjects.py\n",
            "\tCloudFunctionsRepository.ipynb\n",
            "\tCousera/\n",
            "\tDataScienceToolBox1.ipynb\n",
            "\tDictionaries.ipynb\n",
            "\tDictionary.ipynb\n",
            "\tForLoop.ipynb\n",
            "\tFunctions.ipynb\n",
            "\tIngeco.ipynb\n",
            "\tIntermediate Python.ipynb\n",
            "\tLinerModel2.ipynb\n",
            "\tLoopDicDFList.ipynb\n",
            "\tModulesPip.ipynb\n",
            "\tNeo Proceso/\n",
            "\tNumpy.ipynb\n",
            "\tPandas.ipynb\n",
            "\tPrueba.ipynb\n",
            "\tRansa.ipynb\n",
            "\tReadingFile.ipynb\n",
            "\tStrings.ipynb\n",
            "\tToolbox1.ipynb\n",
            "\tTraduccion.ipynb\n",
            "\tTranslator.ipynb\n",
            "\tTry Except.ipynb\n",
            "\tduplicados.csv\n",
            "\tessec.ipynb\n",
            "\therramienta.ipynb\n",
            "\timportmodule.ipynb\n",
            "\tinput.ipynb\n",
            "\tlista.ipynb\n",
            "\tmatplot.ipynb\n",
            "\tmodel.ipynb\n",
            "\tnumeros.ipynb\n",
            "\ttexto.txt\n",
            "\ttuple.ipynb\n",
            "\twhileLoop.ipynb\n",
            "\n",
            "nothing added to commit but untracked files present (use \"git add\" to track)\n"
          ]
        }
      ]
    },
    {
      "cell_type": "code",
      "source": [
        "%%bash\n",
        "cd drive/MyDrive/Colab\\ Notebooks\n",
        "\n",
        "git log\n"
      ],
      "metadata": {
        "colab": {
          "base_uri": "https://localhost:8080/"
        },
        "id": "1VKRNjsiKej5",
        "outputId": "90cb201a-500b-4c0c-bb9d-f8fe123f5160"
      },
      "execution_count": 61,
      "outputs": [
        {
          "output_type": "stream",
          "name": "stdout",
          "text": [
            "commit 216ec3287e8935537039df6aac3247b5a85e298f\n",
            "Author: Aleksei Diaz <aleksei.diaz@pucp.edu.pe>\n",
            "Date:   Wed Feb 9 16:10:46 2022 +0000\n",
            "\n",
            "    My first Python script\n"
          ]
        }
      ]
    },
    {
      "cell_type": "code",
      "source": [
        "%%bash\n",
        "git clone https://github.com/AlekseiDiazPUCP/GCP.git"
      ],
      "metadata": {
        "colab": {
          "base_uri": "https://localhost:8080/"
        },
        "id": "SVTKcWDyomEI",
        "outputId": "7274c574-f1e7-4268-aec6-2b1604ca95f0"
      },
      "execution_count": 63,
      "outputs": [
        {
          "output_type": "stream",
          "name": "stderr",
          "text": [
            "Cloning into 'GCP'...\n"
          ]
        }
      ]
    },
    {
      "cell_type": "code",
      "source": [
        "%%bash\n",
        "ls"
      ],
      "metadata": {
        "colab": {
          "base_uri": "https://localhost:8080/"
        },
        "id": "QS1r3T70qs_1",
        "outputId": "6bb9b488-a2a1-47ae-e29f-2bd5e0cde954"
      },
      "execution_count": 64,
      "outputs": [
        {
          "output_type": "stream",
          "name": "stdout",
          "text": [
            "drive\n",
            "GCP\n",
            "sample_data\n",
            "src_code\n"
          ]
        }
      ]
    },
    {
      "cell_type": "code",
      "source": [
        "%%bash\n",
        "cd drive/MyDrive/Colab\\ Notebooks\n",
        "git push --set-upstream https://github.com/AlekseiDiazPUCP/GCP.git master"
      ],
      "metadata": {
        "colab": {
          "base_uri": "https://localhost:8080/"
        },
        "id": "nzsJDrQs04LL",
        "outputId": "73db2937-e052-4dbc-b673-e61d0827859a"
      },
      "execution_count": 68,
      "outputs": [
        {
          "output_type": "stream",
          "name": "stderr",
          "text": [
            "fatal: could not read Username for 'https://github.com': No such device or address\n"
          ]
        }
      ]
    },
    {
      "cell_type": "markdown",
      "source": [
        "# Google Cloud Functions\n",
        "<p>This notebook is a collection of different functions I have created. The pourpose is to provide a repository to easily review them</p> 222\n"
      ],
      "metadata": {
        "id": "l0UqKRvPyknQ"
      }
    },
    {
      "cell_type": "markdown",
      "source": [
        "##**Cloud Storage**"
      ],
      "metadata": {
        "id": "VAE8Yi1mzYjt"
      }
    },
    {
      "cell_type": "markdown",
      "source": [
        "### Copy a file from one bucket to another\n"
      ],
      "metadata": {
        "id": "pf0h02Any-xp"
      }
    },
    {
      "cell_type": "markdown",
      "source": [
        "**requirements.txt**\n",
        "<p> google-cloud-storage</p>"
      ],
      "metadata": {
        "id": "FizTqbqV-gb1"
      }
    },
    {
      "cell_type": "code",
      "source": [
        "from google.cloud import storage\n",
        "def copy_blob(bucket_name, blob_name, destination_bucket_name, destination_blob_name):\n",
        "    \"\"\"Copies a blob from one bucket to another with a new name.\"\"\"\n",
        "    # bucket_name = \"your-bucket-name\"\n",
        "    # blob_name = \"your-object-name\"\n",
        "    # destination_bucket_name = \"destination-bucket-name\"\n",
        "    # destination_blob_name = \"destination-object-name\"\n",
        "\n",
        "    storage_client = storage.Client()\n",
        "\n",
        "    source_bucket = storage_client.bucket(bucket_name)\n",
        "    source_blob = source_bucket.blob(blob_name)\n",
        "    destination_bucket = storage_client.bucket(destination_bucket_name)\n",
        "\n",
        "    blob_copy = source_bucket.copy_blob(\n",
        "        source_blob, destination_bucket, destination_blob_name\n",
        "    )\n",
        "    print(\n",
        "        \"Blob {} in bucket {} copied to blob {} in bucket {}.\".format(\n",
        "            source_blob.name,\n",
        "            source_bucket.name,\n",
        "            blob_copy.name,\n",
        "            destination_bucket.name,\n",
        "        )\n",
        "    )"
      ],
      "metadata": {
        "id": "DJnr6SH1y-YT"
      },
      "execution_count": null,
      "outputs": []
    },
    {
      "cell_type": "markdown",
      "source": [
        "### Delete a file from a bucket"
      ],
      "metadata": {
        "id": "hb5ZDuBfzQEC"
      }
    },
    {
      "cell_type": "markdown",
      "source": [
        "**requirements.txt**\n",
        "<p> google-cloud-storage</p>"
      ],
      "metadata": {
        "id": "nJL0g-fc-yT0"
      }
    },
    {
      "cell_type": "code",
      "execution_count": null,
      "metadata": {
        "id": "6UayrPbsyctp"
      },
      "outputs": [],
      "source": [
        "from google.cloud import storage\n",
        "def delete_blob(bucket_name, blob_name):\n",
        "    \"\"\"Deletes a blob from the bucket.\"\"\"\n",
        "    # bucket_name = \"your-bucket-name\"\n",
        "    # blob_name = \"your-object-name\"\n",
        "\n",
        "    storage_client = storage.Client()\n",
        "\n",
        "    bucket = storage_client.bucket(bucket_name)\n",
        "    blob = bucket.blob(blob_name)\n",
        "    blob.delete()\n",
        "\n",
        "    print(\"Blob {} deleted.\".format(blob_name))\n"
      ]
    },
    {
      "cell_type": "markdown",
      "source": [
        "## **BigQuery**"
      ],
      "metadata": {
        "id": "2maiXK_8zcjL"
      }
    },
    {
      "cell_type": "markdown",
      "source": [
        "### Run Scheduled Queries on demmand"
      ],
      "metadata": {
        "id": "5WF1c9BGzgKA"
      }
    },
    {
      "cell_type": "markdown",
      "source": [
        "**requirements.txt**\n",
        "<p> google-cloud-bigquery-datatransfer==1</p>"
      ],
      "metadata": {
        "id": "Q0Sx5ppP_N3y"
      }
    },
    {
      "cell_type": "code",
      "source": [
        "from google.cloud import bigquery_datatransfer_v1\n",
        "import time\n",
        "\n",
        "def runScheduledQuery(resourceName):\n",
        "  \"\"\"runs a scheduled query on demmand\"\"\"\n",
        "  #resourceName: Can be found in the scheduled query configuration under the name of Resource Name\n",
        "  client = bigquery_datatransfer_v1.DataTransferServiceClient()\n",
        "  parent = resourceName\n",
        "  print(f'paren is {parent}')\n",
        "  start_time = bigquery_datatransfer_v1.types.Timestamp(seconds=int(time.time() + 10))\n",
        "  response = client.start_manual_transfer_runs(parent, requested_run_time=start_time)\n",
        "  return \"query has been triggered\"\n"
      ],
      "metadata": {
        "id": "2k2vYgNYzfxE"
      },
      "execution_count": null,
      "outputs": []
    },
    {
      "cell_type": "markdown",
      "source": [
        "### Run Custom Queries"
      ],
      "metadata": {
        "id": "pNi92bzd0661"
      }
    },
    {
      "cell_type": "markdown",
      "source": [
        "**requirements.txt**\n",
        "<p> google-cloud-bigquery</p>"
      ],
      "metadata": {
        "id": "OrHRBx8v_VoY"
      }
    },
    {
      "cell_type": "code",
      "source": [
        "from google.cloud import bigquery\n",
        "import time\n",
        "\n",
        "def runQuery(query):\n",
        "    # Construct a BigQuery client object.\n",
        "    client = bigquery.Client()\n",
        "\n",
        "    query_job = client.query(query)  # Make an API request.\n",
        "\n",
        "    status = query_job.state\n",
        "\n",
        "    while status == 'RUNNING':\n",
        "      print('the query is still running')\n",
        "      time.sleep(5)\n",
        "      query_job = client.get_job(\n",
        "          query_job.job_id, location=query_job.location\n",
        "          )\n",
        "      status = query_job.state\n"
      ],
      "metadata": {
        "id": "k-5T207P09lg"
      },
      "execution_count": null,
      "outputs": []
    },
    {
      "cell_type": "markdown",
      "source": [
        "### **Loading a Data Frame**"
      ],
      "metadata": {
        "id": "APUZ0a70Ge2Z"
      }
    },
    {
      "cell_type": "markdown",
      "source": [
        "**requirements.txt**\n",
        "<p> google-cloud-bigquery</p>\n",
        "<p> pandas </p>"
      ],
      "metadata": {
        "id": "OT9aPw_-GjFz"
      }
    },
    {
      "cell_type": "code",
      "source": [
        "import pandas as pd\n",
        "from google.cloud import bigquery\n",
        "\n",
        "def loadDataFrame(job_config,df,table_id):\n",
        "  \"\"\"Triggered from a message on a Cloud Pub/Sub topic.\n",
        "    Args:\n",
        "         job_config (variable): The Job configuration. There is an example below.\n",
        "         df (dataframe): df is a pandas dataframe to be loaded into a BigQuery table\n",
        "         table_id (string) : It is the table id which df will be loaded. projec_id.dataset_id.table_id \n",
        "         context (google.cloud.functions.Context): Metadata for the event.\n",
        "    \"\"\"\n",
        "\n",
        "  \"\"\"\n",
        "  job_config = bigquery.LoadJobConfig(\n",
        "        schema=[\n",
        "          bigquery.SchemaField(\"flow_name\", bigquery.enums.SqlTypeNames.STRING),\n",
        "          bigquery.SchemaField(\"communication_start_date_time\", bigquery.enums.SqlTypeNames.STRING),\n",
        "          bigquery.SchemaField(\"click\", bigquery.enums.SqlTypeNames.INTEGER),\n",
        "          bigquery.SchemaField(\"send_at_date\", bigquery.enums.SqlTypeNames.DATE)\n",
        "          ]\n",
        "        )\n",
        "  \"\"\"\n",
        "  job = client.load_table_from_dataframe(df, table_id,job_config=job_config) \n",
        "  \n",
        "  return \"200\" \n",
        "\n"
      ],
      "metadata": {
        "id": "AV9-FQPIGslg"
      },
      "execution_count": null,
      "outputs": []
    },
    {
      "cell_type": "markdown",
      "source": [
        "### **Loading a JSON**"
      ],
      "metadata": {
        "id": "fuHLrgtuO367"
      }
    },
    {
      "cell_type": "markdown",
      "source": [
        "**requirements.txt**\n",
        "<p> google-cloud-bigquery</p>"
      ],
      "metadata": {
        "id": "93qLZMaAO_bK"
      }
    },
    {
      "cell_type": "code",
      "source": [
        "from google.cloud import bigquery\n",
        "\n",
        "#data must be from a get_json for example\n",
        "\n",
        "def loadJsonToBQ(json, projectId, datasetId, tableId):\n",
        "    \n",
        "  client = bigquery.Client()\n",
        "\n",
        "  data = [data]\n",
        "\n",
        "  job = client.load_table_from_json(data,table_id)\n",
        "\n",
        "  return '200'        \n",
        "\n",
        "\n",
        "\n",
        "\n",
        "\n",
        "  \n"
      ],
      "metadata": {
        "id": "7uzsThsuPLnH"
      },
      "execution_count": null,
      "outputs": []
    },
    {
      "cell_type": "markdown",
      "source": [
        "## **Pub/Sub**"
      ],
      "metadata": {
        "id": "Sx9UTZpRCxog"
      }
    },
    {
      "cell_type": "markdown",
      "source": [
        "### **Publish in  Topic**"
      ],
      "metadata": {
        "id": "LekbXZAqDDAf"
      }
    },
    {
      "cell_type": "markdown",
      "source": [
        "**requirements.txt**\n",
        "<p> google-cloud-pubsub</p>"
      ],
      "metadata": {
        "id": "bUDA8WNjDPSn"
      }
    },
    {
      "cell_type": "code",
      "source": [
        "from google.cloud import pubsub_v1\n",
        "import json\n",
        "\n",
        "\n",
        "def publish(bucket_name,file_name,topic_name):\n",
        "  # Publish to a topic.\n",
        "\n",
        "  publisher = pubsub_v1.PublisherClient()\n",
        "  \n",
        "  # References an existing topic\n",
        "  message_json = json.dumps({\n",
        "      'data':  {'bucket_name': bucket_name,'file_name':file_name},\n",
        "    })\n",
        "  message_bytes = str(message_json).encode('utf-8')\n",
        "\n",
        "  # Publishes a message\n",
        "  try:\n",
        "    publish_future = publisher.publish(topic_path, data=message_bytes)\n",
        "    publish_future.result()  # Verify the publish succeeded\n",
        "    return 'Message published.'\n",
        "  except Exception as e:\n",
        "    print(e)\n",
        "    return (e, 500)"
      ],
      "metadata": {
        "id": "KIJkjsX7DCnB"
      },
      "execution_count": null,
      "outputs": []
    },
    {
      "cell_type": "markdown",
      "source": [
        "### **Read from a Topic**"
      ],
      "metadata": {
        "id": "nvAY__NgE8Cw"
      }
    },
    {
      "cell_type": "markdown",
      "source": [
        "**requirements.txt**\n",
        "<p> google-cloud-pubsub</p>"
      ],
      "metadata": {
        "id": "gRlEX-21FX6d"
      }
    },
    {
      "cell_type": "code",
      "source": [
        "from google.cloud import pubsub_v1\n",
        "import json\n",
        "\n",
        "\n",
        "def parseMessage(event, context):\n",
        "    \"\"\"Triggered from a message on a Cloud Pub/Sub topic.\n",
        "    Args:\n",
        "         event (dict): Event payload.\n",
        "         context (google.cloud.functions.Context): Metadata for the event.\n",
        "    \"\"\"\n",
        "    pubsub_message = base64.b64decode(event['data']).decode('utf-8')\n",
        "    \n",
        "    #Make the message data accesible form key values\n",
        "    payload = json.loads(pubsub_message)\n",
        "    print(payload)\n",
        "\n",
        "    return '200'"
      ],
      "metadata": {
        "id": "MciuS9GIE5lo"
      },
      "execution_count": null,
      "outputs": []
    },
    {
      "cell_type": "code",
      "source": [
        ""
      ],
      "metadata": {
        "id": "1WZn4bRRC3yy"
      },
      "execution_count": null,
      "outputs": []
    },
    {
      "cell_type": "markdown",
      "source": [
        "## **Billing**"
      ],
      "metadata": {
        "id": "BYYmOE0pI0Oa"
      }
    },
    {
      "cell_type": "code",
      "source": [
        "import base64\n",
        "import base64\n",
        "import json\n",
        "import os\n",
        "from googleapiclient import discovery\n",
        "\n",
        "#PROJECT_ID = os.getenv('GCP_PROJECT')\n",
        "PROJECT_ID = '<project ID>' #To be replaced \n",
        "PROJECT_NAME = f'projects/{PROJECT_ID}'\n",
        "\n",
        "\n",
        "def stop_billing(data, context):\n",
        "    pubsub_data = base64.b64decode(data['data']).decode('utf-8')\n",
        "    pubsub_json = json.loads(pubsub_data)\n",
        "    cost_amount = pubsub_json['costAmount']\n",
        "    budget_amount = pubsub_json['budgetAmount']\n",
        "    if cost_amount <= budget_amount:\n",
        "        print(f'No action necessary. (Current cost: {cost_amount})')\n",
        "        return\n",
        "\n",
        "    if PROJECT_ID is None:\n",
        "        print('No project specified with environment variable')\n",
        "        return '200'\n",
        "\n",
        "    billing = discovery.build(\n",
        "        'cloudbilling',\n",
        "        'v1',\n",
        "        cache_discovery=False,\n",
        "    )\n",
        "\n",
        "    projects = billing.projects()\n",
        "\n",
        "    billing_enabled = __is_billing_enabled(PROJECT_NAME, projects)\n",
        "\n",
        "    if billing_enabled:\n",
        "        __disable_billing_for_project(PROJECT_NAME, projects)\n",
        "        print('billing was supposed to be disabled')\n",
        "        return '200'\n",
        "    else:\n",
        "        print('Billing already disabled')\n",
        "        return '200'\n",
        "\n",
        "\n",
        "def __is_billing_enabled(project_name, projects):\n",
        "    \"\"\"\n",
        "    Determine whether billing is enabled for a project\n",
        "    @param {string} project_name Name of project to check if billing is enabled\n",
        "    @return {bool} Whether project has billing enabled or not\n",
        "    \"\"\"\n",
        "    try:\n",
        "        res = projects.getBillingInfo(name=project_name).execute()\n",
        "        return res['billingEnabled']\n",
        "    except KeyError:\n",
        "        # If billingEnabled isn't part of the return, billing is not enabled\n",
        "        return False\n",
        "    except Exception:\n",
        "        print('Unable to determine if billing is enabled on specified project, assuming billing is enabled')\n",
        "        return True\n",
        "\n",
        "\n",
        "def __disable_billing_for_project(project_name, projects):\n",
        "    \"\"\"\n",
        "    Disable billing for a project by removing its billing account\n",
        "    @param {string} project_name Name of project disable billing on\n",
        "    \"\"\"\n",
        "    body = {'billingAccountName': ''}  # Disable billing\n",
        "    try:\n",
        "        res = projects.updateBillingInfo(name=project_name, body=body).execute()\n",
        "        print(f'Billing disabled: {json.dumps(res)}')\n",
        "    except Exception:\n",
        "        print('Failed to disable billing, possibly check permissions')"
      ],
      "metadata": {
        "id": "RepBW6g2JFDc"
      },
      "execution_count": null,
      "outputs": []
    }
  ]
}